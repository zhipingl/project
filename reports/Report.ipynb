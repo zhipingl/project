{
 "cells": [
  {
   "cell_type": "markdown",
   "id": "719238a7-4670-4a8b-ac07-9d8d6855d60f",
   "metadata": {},
   "source": [
    "Import necessary libraries: The first few lines import the necessary libraries for loading and visualizing the dataset, training and evaluating the model, and creating the report."
   ]
  },
  {
   "cell_type": "code",
   "execution_count": 2,
   "id": "56f75733-1004-4664-8706-d9216be1ef70",
   "metadata": {},
   "outputs": [],
   "source": [
    "import pandas as pd\n",
    "import matplotlib.pyplot as plt\n",
    "from sklearn.linear_model import LogisticRegression\n",
    "from sklearn.metrics import accuracy_score\n",
    "from sklearn.model_selection import train_test_split"
   ]
  },
  {
   "cell_type": "markdown",
   "id": "4b37d5ff-0f4d-4318-9400-5d4987508310",
   "metadata": {},
   "source": [
    "Load the dataset: The `pd.read_csv()` function is used to load the dataset from a CSV file and create a `pandas` dataframe."
   ]
  },
  {
   "cell_type": "code",
   "execution_count": 3,
   "id": "3b5bd5af-94f4-473b-b170-dd363b153862",
   "metadata": {},
   "outputs": [
    {
     "data": {
      "text/html": [
       "<div>\n",
       "<style scoped>\n",
       "    .dataframe tbody tr th:only-of-type {\n",
       "        vertical-align: middle;\n",
       "    }\n",
       "\n",
       "    .dataframe tbody tr th {\n",
       "        vertical-align: top;\n",
       "    }\n",
       "\n",
       "    .dataframe thead th {\n",
       "        text-align: right;\n",
       "    }\n",
       "</style>\n",
       "<table border=\"1\" class=\"dataframe\">\n",
       "  <thead>\n",
       "    <tr style=\"text-align: right;\">\n",
       "      <th></th>\n",
       "      <th>feature_1</th>\n",
       "      <th>feature_2</th>\n",
       "      <th>feature_3</th>\n",
       "      <th>feature_4</th>\n",
       "      <th>feature_5</th>\n",
       "      <th>feature_6</th>\n",
       "      <th>feature_7</th>\n",
       "      <th>feature_8</th>\n",
       "      <th>feature_9</th>\n",
       "      <th>feature_10</th>\n",
       "      <th>target</th>\n",
       "    </tr>\n",
       "  </thead>\n",
       "  <tbody>\n",
       "    <tr>\n",
       "      <th>0</th>\n",
       "      <td>-1.085631</td>\n",
       "      <td>0.997345</td>\n",
       "      <td>0.282978</td>\n",
       "      <td>-1.506295</td>\n",
       "      <td>-0.578600</td>\n",
       "      <td>1.651437</td>\n",
       "      <td>-2.426679</td>\n",
       "      <td>-0.428913</td>\n",
       "      <td>1.265936</td>\n",
       "      <td>-0.866740</td>\n",
       "      <td>1.0</td>\n",
       "    </tr>\n",
       "    <tr>\n",
       "      <th>1</th>\n",
       "      <td>-0.678886</td>\n",
       "      <td>-0.094709</td>\n",
       "      <td>1.491390</td>\n",
       "      <td>-0.638902</td>\n",
       "      <td>-0.443982</td>\n",
       "      <td>-0.434351</td>\n",
       "      <td>2.205930</td>\n",
       "      <td>2.186786</td>\n",
       "      <td>1.004054</td>\n",
       "      <td>0.386186</td>\n",
       "      <td>1.0</td>\n",
       "    </tr>\n",
       "    <tr>\n",
       "      <th>2</th>\n",
       "      <td>0.737369</td>\n",
       "      <td>1.490732</td>\n",
       "      <td>-0.935834</td>\n",
       "      <td>1.175829</td>\n",
       "      <td>-1.253881</td>\n",
       "      <td>-0.637752</td>\n",
       "      <td>0.907105</td>\n",
       "      <td>-1.428681</td>\n",
       "      <td>-0.140069</td>\n",
       "      <td>-0.861755</td>\n",
       "      <td>0.0</td>\n",
       "    </tr>\n",
       "    <tr>\n",
       "      <th>3</th>\n",
       "      <td>-0.255619</td>\n",
       "      <td>-2.798589</td>\n",
       "      <td>-1.771533</td>\n",
       "      <td>-0.699877</td>\n",
       "      <td>0.927462</td>\n",
       "      <td>-0.173636</td>\n",
       "      <td>0.002846</td>\n",
       "      <td>0.688223</td>\n",
       "      <td>-0.879536</td>\n",
       "      <td>0.283627</td>\n",
       "      <td>1.0</td>\n",
       "    </tr>\n",
       "    <tr>\n",
       "      <th>4</th>\n",
       "      <td>-0.805367</td>\n",
       "      <td>-1.727669</td>\n",
       "      <td>-0.390900</td>\n",
       "      <td>0.573806</td>\n",
       "      <td>0.338589</td>\n",
       "      <td>-0.011830</td>\n",
       "      <td>2.392365</td>\n",
       "      <td>0.412912</td>\n",
       "      <td>0.978736</td>\n",
       "      <td>2.238143</td>\n",
       "      <td>0.0</td>\n",
       "    </tr>\n",
       "  </tbody>\n",
       "</table>\n",
       "</div>"
      ],
      "text/plain": [
       "   feature_1  feature_2  feature_3  feature_4  feature_5  feature_6  \\\n",
       "0  -1.085631   0.997345   0.282978  -1.506295  -0.578600   1.651437   \n",
       "1  -0.678886  -0.094709   1.491390  -0.638902  -0.443982  -0.434351   \n",
       "2   0.737369   1.490732  -0.935834   1.175829  -1.253881  -0.637752   \n",
       "3  -0.255619  -2.798589  -1.771533  -0.699877   0.927462  -0.173636   \n",
       "4  -0.805367  -1.727669  -0.390900   0.573806   0.338589  -0.011830   \n",
       "\n",
       "   feature_7  feature_8  feature_9  feature_10  target  \n",
       "0  -2.426679  -0.428913   1.265936   -0.866740     1.0  \n",
       "1   2.205930   2.186786   1.004054    0.386186     1.0  \n",
       "2   0.907105  -1.428681  -0.140069   -0.861755     0.0  \n",
       "3   0.002846   0.688223  -0.879536    0.283627     1.0  \n",
       "4   2.392365   0.412912   0.978736    2.238143     0.0  "
      ]
     },
     "execution_count": 3,
     "metadata": {},
     "output_type": "execute_result"
    }
   ],
   "source": [
    "# Load the dataset from a CSV file\n",
    "df = pd.read_csv(\"dataset.csv\")\n",
    "df.head()"
   ]
  },
  {
   "cell_type": "code",
   "execution_count": 4,
   "id": "d392e9a2-bb10-42d0-b4a3-d401210b3756",
   "metadata": {},
   "outputs": [
    {
     "name": "stdout",
     "output_type": "stream",
     "text": [
      "         feature_1    feature_2    feature_3    feature_4    feature_5  \\\n",
      "count  1000.000000  1000.000000  1000.000000  1000.000000  1000.000000   \n",
      "mean     -0.005297     0.012115     0.017455    -0.011119    -0.008053   \n",
      "std       0.986820     0.998430     0.990776     0.978192     1.003635   \n",
      "min      -3.167055    -3.685499    -3.066988    -3.581474    -3.587494   \n",
      "25%      -0.693351    -0.684767    -0.685417    -0.702782    -0.670098   \n",
      "50%       0.007288    -0.005697    -0.004751     0.052642    -0.025822   \n",
      "75%       0.641805     0.671780     0.713492     0.660364     0.672929   \n",
      "max       3.050755     3.571579     3.386115     2.789487     3.558981   \n",
      "\n",
      "         feature_6    feature_7    feature_8    feature_9   feature_10  \\\n",
      "count  1000.000000  1000.000000  1000.000000  1000.000000  1000.000000   \n",
      "mean      0.044696     0.054121    -0.056954     0.028626     0.021528   \n",
      "std       0.986880     1.016036     1.015486     1.023492     0.980629   \n",
      "min      -3.231055    -3.570243    -3.316010    -3.801378    -3.114263   \n",
      "25%      -0.598035    -0.636259    -0.776020    -0.637296    -0.647347   \n",
      "50%       0.082642     0.060037    -0.064200     0.044113     0.035680   \n",
      "75%       0.690880     0.741102     0.618810     0.714136     0.707607   \n",
      "max       3.569280     2.996198     4.068097     3.311735     2.958625   \n",
      "\n",
      "            target  \n",
      "count  1000.000000  \n",
      "mean      0.515000  \n",
      "std       0.500025  \n",
      "min       0.000000  \n",
      "25%       0.000000  \n",
      "50%       1.000000  \n",
      "75%       1.000000  \n",
      "max       1.000000  \n"
     ]
    }
   ],
   "source": [
    "# Data exploration\n",
    "print(df.describe())"
   ]
  },
  {
   "cell_type": "markdown",
   "id": "defcc3aa-83fa-4adc-ad62-196dafc1ac5f",
   "metadata": {},
   "source": [
    "Visualize the dataset: The `plt.scatter()` function is used to create a scatter plot of the dataset, with different colors for each target class. The resulting plot is saved to a PNG file using `plt.savefig()`"
   ]
  },
  {
   "cell_type": "markdown",
   "id": "77e26ef7-f282-499b-9839-5dece80b8ec3",
   "metadata": {},
   "source": [
    "![Dataset.png](dataset-image.png)"
   ]
  },
  {
   "cell_type": "markdown",
   "id": "3660cd37-9f49-445c-b734-f4a301cc4e00",
   "metadata": {},
   "source": [
    "Split the data into training and testing sets: The `train_test_split()` function from scikit-learn is used to split the dataset into training and testing sets."
   ]
  },
  {
   "cell_type": "code",
   "execution_count": 5,
   "id": "8d8f478a-e8d8-40f4-9224-f833bf80707f",
   "metadata": {},
   "outputs": [],
   "source": [
    "# Split the data into training and testing sets\n",
    "X_train, X_test, y_train, y_test = train_test_split(df.iloc[:, :-1], df.iloc[:, -1], test_size=0.2, random_state=123)"
   ]
  },
  {
   "cell_type": "markdown",
   "id": "fb25d1b7-1ccd-4b16-949f-14d2c3c6eed7",
   "metadata": {},
   "source": [
    "Train a logistic regression model: The `LogisticRegression()` function is used to create a logistic regression model, which is then trained on the training set using the `fit()` method."
   ]
  },
  {
   "cell_type": "code",
   "execution_count": 6,
   "id": "e46ba21d-a13f-432d-bb32-60b7915450c9",
   "metadata": {},
   "outputs": [
    {
     "data": {
      "text/html": [
       "<style>#sk-container-id-1 {color: black;background-color: white;}#sk-container-id-1 pre{padding: 0;}#sk-container-id-1 div.sk-toggleable {background-color: white;}#sk-container-id-1 label.sk-toggleable__label {cursor: pointer;display: block;width: 100%;margin-bottom: 0;padding: 0.3em;box-sizing: border-box;text-align: center;}#sk-container-id-1 label.sk-toggleable__label-arrow:before {content: \"▸\";float: left;margin-right: 0.25em;color: #696969;}#sk-container-id-1 label.sk-toggleable__label-arrow:hover:before {color: black;}#sk-container-id-1 div.sk-estimator:hover label.sk-toggleable__label-arrow:before {color: black;}#sk-container-id-1 div.sk-toggleable__content {max-height: 0;max-width: 0;overflow: hidden;text-align: left;background-color: #f0f8ff;}#sk-container-id-1 div.sk-toggleable__content pre {margin: 0.2em;color: black;border-radius: 0.25em;background-color: #f0f8ff;}#sk-container-id-1 input.sk-toggleable__control:checked~div.sk-toggleable__content {max-height: 200px;max-width: 100%;overflow: auto;}#sk-container-id-1 input.sk-toggleable__control:checked~label.sk-toggleable__label-arrow:before {content: \"▾\";}#sk-container-id-1 div.sk-estimator input.sk-toggleable__control:checked~label.sk-toggleable__label {background-color: #d4ebff;}#sk-container-id-1 div.sk-label input.sk-toggleable__control:checked~label.sk-toggleable__label {background-color: #d4ebff;}#sk-container-id-1 input.sk-hidden--visually {border: 0;clip: rect(1px 1px 1px 1px);clip: rect(1px, 1px, 1px, 1px);height: 1px;margin: -1px;overflow: hidden;padding: 0;position: absolute;width: 1px;}#sk-container-id-1 div.sk-estimator {font-family: monospace;background-color: #f0f8ff;border: 1px dotted black;border-radius: 0.25em;box-sizing: border-box;margin-bottom: 0.5em;}#sk-container-id-1 div.sk-estimator:hover {background-color: #d4ebff;}#sk-container-id-1 div.sk-parallel-item::after {content: \"\";width: 100%;border-bottom: 1px solid gray;flex-grow: 1;}#sk-container-id-1 div.sk-label:hover label.sk-toggleable__label {background-color: #d4ebff;}#sk-container-id-1 div.sk-serial::before {content: \"\";position: absolute;border-left: 1px solid gray;box-sizing: border-box;top: 0;bottom: 0;left: 50%;z-index: 0;}#sk-container-id-1 div.sk-serial {display: flex;flex-direction: column;align-items: center;background-color: white;padding-right: 0.2em;padding-left: 0.2em;position: relative;}#sk-container-id-1 div.sk-item {position: relative;z-index: 1;}#sk-container-id-1 div.sk-parallel {display: flex;align-items: stretch;justify-content: center;background-color: white;position: relative;}#sk-container-id-1 div.sk-item::before, #sk-container-id-1 div.sk-parallel-item::before {content: \"\";position: absolute;border-left: 1px solid gray;box-sizing: border-box;top: 0;bottom: 0;left: 50%;z-index: -1;}#sk-container-id-1 div.sk-parallel-item {display: flex;flex-direction: column;z-index: 1;position: relative;background-color: white;}#sk-container-id-1 div.sk-parallel-item:first-child::after {align-self: flex-end;width: 50%;}#sk-container-id-1 div.sk-parallel-item:last-child::after {align-self: flex-start;width: 50%;}#sk-container-id-1 div.sk-parallel-item:only-child::after {width: 0;}#sk-container-id-1 div.sk-dashed-wrapped {border: 1px dashed gray;margin: 0 0.4em 0.5em 0.4em;box-sizing: border-box;padding-bottom: 0.4em;background-color: white;}#sk-container-id-1 div.sk-label label {font-family: monospace;font-weight: bold;display: inline-block;line-height: 1.2em;}#sk-container-id-1 div.sk-label-container {text-align: center;}#sk-container-id-1 div.sk-container {/* jupyter's `normalize.less` sets `[hidden] { display: none; }` but bootstrap.min.css set `[hidden] { display: none !important; }` so we also need the `!important` here to be able to override the default hidden behavior on the sphinx rendered scikit-learn.org. See: https://github.com/scikit-learn/scikit-learn/issues/21755 */display: inline-block !important;position: relative;}#sk-container-id-1 div.sk-text-repr-fallback {display: none;}</style><div id=\"sk-container-id-1\" class=\"sk-top-container\"><div class=\"sk-text-repr-fallback\"><pre>LogisticRegression(random_state=123)</pre><b>In a Jupyter environment, please rerun this cell to show the HTML representation or trust the notebook. <br />On GitHub, the HTML representation is unable to render, please try loading this page with nbviewer.org.</b></div><div class=\"sk-container\" hidden><div class=\"sk-item\"><div class=\"sk-estimator sk-toggleable\"><input class=\"sk-toggleable__control sk-hidden--visually\" id=\"sk-estimator-id-1\" type=\"checkbox\" checked><label for=\"sk-estimator-id-1\" class=\"sk-toggleable__label sk-toggleable__label-arrow\">LogisticRegression</label><div class=\"sk-toggleable__content\"><pre>LogisticRegression(random_state=123)</pre></div></div></div></div></div>"
      ],
      "text/plain": [
       "LogisticRegression(random_state=123)"
      ]
     },
     "execution_count": 6,
     "metadata": {},
     "output_type": "execute_result"
    }
   ],
   "source": [
    "# Train a logistic regression model\n",
    "model = LogisticRegression(random_state=123)\n",
    "model.fit(X_train, y_train)"
   ]
  },
  {
   "cell_type": "markdown",
   "id": "890f017d-3b5c-4f77-a3ec-6f6097f89113",
   "metadata": {},
   "source": [
    "Evaluate the model on the testing set: The trained model is used to make predictions on the testing set using the `predict()` method, and the accuracy of the predictions is calculated using `accuracy_score()` from scikit-learn."
   ]
  },
  {
   "cell_type": "code",
   "execution_count": 7,
   "id": "8540b172-d393-4bbc-a03c-f8c94199da95",
   "metadata": {},
   "outputs": [
    {
     "name": "stdout",
     "output_type": "stream",
     "text": [
      "Model accuracy: 0.50\n"
     ]
    }
   ],
   "source": [
    "# Evaluate the model on the testing set\n",
    "y_pred = model.predict(X_test)\n",
    "accuracy = accuracy_score(y_test, y_pred)\n",
    "# Print the model accuracy\n",
    "print(f\"Model accuracy: {accuracy:.2f}\")"
   ]
  },
  {
   "cell_type": "markdown",
   "id": "50b4a2ce-20f5-4d4d-8a42-5b8836748940",
   "metadata": {},
   "source": [
    "Visualize the model predictions on the testing set: The `plt.scatter()` function is used again to create a scatter plot of the testing set predictions, with different colors for each predicted class. The resulting plot is saved to a PNG file using `plt.savefig()`."
   ]
  },
  {
   "cell_type": "markdown",
   "id": "461e0d94-32aa-4da5-81da-f5a919cf8132",
   "metadata": {},
   "source": [
    "![Predictions.png](predictions.png)"
   ]
  },
  {
   "cell_type": "code",
   "execution_count": null,
   "id": "77b4622b-d75e-4ee7-b4a1-e280f9e4748c",
   "metadata": {},
   "outputs": [],
   "source": []
  }
 ],
 "metadata": {
  "kernelspec": {
   "display_name": "Python 3 (ipykernel)",
   "language": "python",
   "name": "python3"
  },
  "language_info": {
   "codemirror_mode": {
    "name": "ipython",
    "version": 3
   },
   "file_extension": ".py",
   "mimetype": "text/x-python",
   "name": "python",
   "nbconvert_exporter": "python",
   "pygments_lexer": "ipython3",
   "version": "3.8.15"
  }
 },
 "nbformat": 4,
 "nbformat_minor": 5
}
